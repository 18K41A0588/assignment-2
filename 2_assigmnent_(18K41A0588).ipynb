{
  "nbformat": 4,
  "nbformat_minor": 0,
  "metadata": {
    "colab": {
      "name": "2-assigmnent (18K41A0588).ipynb",
      "provenance": [],
      "collapsed_sections": [],
      "authorship_tag": "ABX9TyMumIXvFHzXHWIGgfkD7MR/",
      "include_colab_link": true
    },
    "kernelspec": {
      "name": "python3",
      "display_name": "Python 3"
    }
  },
  "cells": [
    {
      "cell_type": "markdown",
      "metadata": {
        "id": "view-in-github",
        "colab_type": "text"
      },
      "source": [
        "<a href=\"https://colab.research.google.com/github/18K41A0588/assignment-2/blob/master/2_assigmnent_(18K41A0588).ipynb\" target=\"_parent\"><img src=\"https://colab.research.google.com/assets/colab-badge.svg\" alt=\"Open In Colab\"/></a>"
      ]
    },
    {
      "cell_type": "markdown",
      "metadata": {
        "id": "oULQuScrFdkh",
        "colab_type": "text"
      },
      "source": [
        "1Q) \tArea of Triangle :\n",
        "Given the lengths of three sides of a triangle, calculate the area of the triangle. \n"
      ]
    },
    {
      "cell_type": "code",
      "metadata": {
        "id": "gEOTbfbROfx6",
        "colab_type": "code",
        "colab": {
          "base_uri": "https://localhost:8080/",
          "height": 85
        },
        "outputId": "710bb9f2-65bd-40a4-e3bc-805cef3bcca5"
      },
      "source": [
        "a= int(input(\"Enter first side of triangle : \"))\n",
        "b= int(input(\"Enter second side of triangle : \"))\n",
        "c= int(input(\"Enter third side of triangle : \"))\n",
        "if((a+b)>c):\n",
        "  s=(a+b+c)/2\n",
        "  area=(s*(s-a)*(s-b)*(s-c)) ** (1/2)\n",
        "  print(\"Area of triangle is : \",round(area,3))\n",
        "else :\n",
        "  print(\"Area of triangle is not possible\")\n",
        "\n",
        " "
      ],
      "execution_count": 5,
      "outputs": [
        {
          "output_type": "stream",
          "text": [
            "Enter first side of triangle : 30\n",
            "Enter second side of triangle : 20\n",
            "Enter third side of triangle : 40\n",
            "Area of triangle is :  290.474\n"
          ],
          "name": "stdout"
        }
      ]
    },
    {
      "cell_type": "markdown",
      "metadata": {
        "id": "SZgylEscIERv",
        "colab_type": "text"
      },
      "source": [
        "2Q).\tTake a string from end user and check if the value is palindrome or not"
      ]
    },
    {
      "cell_type": "code",
      "metadata": {
        "id": "Z7nK01nFSKjY",
        "colab_type": "code",
        "colab": {
          "base_uri": "https://localhost:8080/",
          "height": 51
        },
        "outputId": "c91cbe05-820c-477f-c5ce-3513fc47e1ee"
      },
      "source": [
        "a=input(\"Enter a string : \")\n",
        "if(a==a[::-1]) :\n",
        "  print(\"It is a palindrome\")\n",
        "else :\n",
        "  print(\"Not a palindrome\")\n",
        "\n"
      ],
      "execution_count": 18,
      "outputs": [
        {
          "output_type": "stream",
          "text": [
            "Enter a string : malayalam\n",
            "It is a palindrome\n"
          ],
          "name": "stdout"
        }
      ]
    },
    {
      "cell_type": "markdown",
      "metadata": {
        "id": "DyMKkPPpIbLT",
        "colab_type": "text"
      },
      "source": [
        "3Q)\tWrite a program that reads a year from the user and displays a message \n",
        "Indicating whether or not it is a leap year.\n"
      ]
    },
    {
      "cell_type": "code",
      "metadata": {
        "id": "YCIWi2nQfeh2",
        "colab_type": "code",
        "colab": {
          "base_uri": "https://localhost:8080/",
          "height": 51
        },
        "outputId": "8bd3db64-a673-4963-e5e8-01027261022f"
      },
      "source": [
        "a=int(input(\"Enter a year : \"))\n",
        "if(a % 4) == 0 :\n",
        "  if(a % 100) == 0 :\n",
        "    if(a % 400) == 0 :\n",
        "      print(\"It is leap year\")\n",
        "    else :\n",
        "      print(\"It is not leap year\")\n",
        "  else :\n",
        "    print(\"It is a leap year\")\n",
        "else :\n",
        "  print(\"It is not a leap year\")\n",
        "\n"
      ],
      "execution_count": 32,
      "outputs": [
        {
          "output_type": "stream",
          "text": [
            "Enter a year : 2012\n",
            "It is a leap year\n"
          ],
          "name": "stdout"
        }
      ]
    },
    {
      "cell_type": "markdown",
      "metadata": {
        "id": "16dRjTUiIqGM",
        "colab_type": "text"
      },
      "source": [
        "4Q) Space To Hyphen problem \n",
        "Take a string as input, and replaces spaces “ “  with hyphens “-”, and returns a string.\n",
        "Input: “ This program converts spaces into hyphen”\n",
        "      Output:     “ This-program-converts-spaces-into-hyphen”\n"
      ]
    },
    {
      "cell_type": "code",
      "metadata": {
        "id": "D7zaREZHs0uZ",
        "colab_type": "code",
        "colab": {
          "base_uri": "https://localhost:8080/",
          "height": 51
        },
        "outputId": "3c598c8e-c7b2-4a86-e55d-162211163728"
      },
      "source": [
        "str=input(\"Enter a string : \") \n",
        "print(str.replace(\" \",\"-\"))"
      ],
      "execution_count": 29,
      "outputs": [
        {
          "output_type": "stream",
          "text": [
            "Enter a string : This program converts spaces into hyphen\n",
            "This-program-converts-spaces-into-hyphen\n"
          ],
          "name": "stdout"
        }
      ]
    },
    {
      "cell_type": "markdown",
      "metadata": {
        "id": "4XwBO04nI2KD",
        "colab_type": "text"
      },
      "source": [
        "5Q)\tUnique Sort problem \n",
        "Take a string as input that accepts a comma separated sequence of words as input and prints the unique words in sorted form (alphanumerically).\n",
        "*Input*: orange, white, red, cyan, green, magenta, cyan, pink, white\n",
        "*Output*: cyan, green, magenta, orange, pink, red, white\n"
      ]
    },
    {
      "cell_type": "code",
      "metadata": {
        "id": "n_40d6FruSp1",
        "colab_type": "code",
        "colab": {
          "base_uri": "https://localhost:8080/",
          "height": 51
        },
        "outputId": "e666d774-2876-418d-9339-248ce21d178f"
      },
      "source": [
        "b=input(\"Enter a string : \").split(',')\n",
        "l=[]\n",
        "l=list(b)\n",
        "s=set(l)\n",
        "ls=[]\n",
        "ls=list(s)\n",
        "ls.sort()\n",
        "print(ls)\n"
      ],
      "execution_count": 48,
      "outputs": [
        {
          "output_type": "stream",
          "text": [
            "Enter a string : orange,white,red,cyan,green,magenta,cyan,pink,white\n",
            "['cyan', 'green', 'magenta', 'orange', 'pink', 'red', 'white']\n"
          ],
          "name": "stdout"
        }
      ]
    },
    {
      "cell_type": "markdown",
      "metadata": {
        "id": "AXcuE3NYOxiz",
        "colab_type": "text"
      },
      "source": [
        "6Q) Tax Calculator\n",
        "Ask the user for their monthly salary. Calculate whether they have to pay tax and if so, how much is that amount .Print the result\n",
        "\n",
        "       \n",
        " \n"
      ]
    },
    {
      "cell_type": "code",
      "metadata": {
        "id": "KPf35MnJOlHD",
        "colab_type": "code",
        "colab": {
          "base_uri": "https://localhost:8080/",
          "height": 51
        },
        "outputId": "934fe945-5a34-4d3b-aaf0-d9dd7eaf5624"
      },
      "source": [
        "s=int(input(\"enter the salary\"))\n",
        "if(s<=250000):\n",
        "  print(\"No need to pay tax Nil\")\n",
        "elif(s>=250001 and s<=500000):\n",
        "    amount=s*(5/100)\n",
        "    print(\"amount to be paid\",amount)\n",
        "elif(s>=500001 and s<=750000):\n",
        "     amount=s*(10/100)\n",
        "elif(s>=750001 and s<=1000000):\n",
        "     amount=s*(15/100)\n",
        "     print(\"amount to be paid\",amount)\n",
        "elif(s>=1000001 and s<=1250000):\n",
        "     amount=s*(20/100)\n",
        "     print(\"amount to be paid\",amount)\n",
        "elif(s>=1250001 and s<=1500000):\n",
        "     amount=s*(25/100)\n",
        "     print(\"amount to be paid\",amount)\n"
      ],
      "execution_count": 49,
      "outputs": [
        {
          "output_type": "stream",
          "text": [
            "enter the salary25000\n",
            "No need to pay tax Nil\n"
          ],
          "name": "stdout"
        }
      ]
    },
    {
      "cell_type": "markdown",
      "metadata": {
        "id": "kdOHFyokXqU8",
        "colab_type": "text"
      },
      "source": [
        "7Q) Take a list of integers as an argument, and converts it into a single integer (return the integer).\n",
        "*Input*: [11, 33, 50]\n",
        "*Output*: 113350\n"
      ]
    },
    {
      "cell_type": "code",
      "metadata": {
        "id": "G5OrVKcEc6oh",
        "colab_type": "code",
        "colab": {
          "base_uri": "https://localhost:8080/",
          "height": 51
        },
        "outputId": "bab1ebd7-2c40-4244-c8b1-62921840f554"
      },
      "source": [
        "l1=input(\"Enter list elements :\").split(',')\n",
        "s=\"\"\n",
        "s=s.join(l1)\n",
        "n=int(s)\n",
        "print(n)\n"
      ],
      "execution_count": 69,
      "outputs": [
        {
          "output_type": "stream",
          "text": [
            "Enter list elements :11,33,50\n",
            "113350\n"
          ],
          "name": "stdout"
        }
      ]
    },
    {
      "cell_type": "markdown",
      "metadata": {
        "id": "kT5qlG5Jd2ni",
        "colab_type": "text"
      },
      "source": [
        "8Q)\tUnits of Time\n",
        "\n",
        "Create a program that reads duration from the user as a number of days, hours, minutes, and seconds. Compute and display the total number of seconds represented by this duration. \n"
      ]
    },
    {
      "cell_type": "code",
      "metadata": {
        "id": "3lpNMp-reGLz",
        "colab_type": "code",
        "colab": {
          "base_uri": "https://localhost:8080/",
          "height": 102
        },
        "outputId": "576e244f-cebe-4646-95fb-6a3751317022"
      },
      "source": [
        "days=int(input('Enter number of days :'))\n",
        "hours=int(input('Enter number of hours :'))\n",
        "minutes=int(input('Enter number of minutes :'))\n",
        "seconds=int(input('Enter number of seconds :'))\n",
        "seconds_per_min=60\n",
        "seconds_per_hour=3600\n",
        "seconds_per_day=86400\n",
        "totalseconds=days*seconds_per_day\n",
        "totalseconds=totalseconds+(hours*seconds_per_hour)\n",
        "totalseconds=totalseconds+(minutes*seconds_per_min)\n",
        "totalseconds=totalseconds+seconds\n",
        "print(\"Total seconds = \",totalseconds)\n"
      ],
      "execution_count": 75,
      "outputs": [
        {
          "output_type": "stream",
          "text": [
            "Enter number of days :10\n",
            "Enter number of hours :5\n",
            "Enter number of minutes :15\n",
            "Enter number of seconds :200\n",
            "Total seconds =  883100\n"
          ],
          "name": "stdout"
        }
      ]
    },
    {
      "cell_type": "markdown",
      "metadata": {
        "id": "anrJ7IXcfw-m",
        "colab_type": "text"
      },
      "source": [
        "9Q) 9.\tSort 3 Integers\n",
        "\n",
        "Given three integers (given through user input), sort the numbers using |min| and  |max| functions.\n"
      ]
    },
    {
      "cell_type": "code",
      "metadata": {
        "id": "tdiaXB1egAxi",
        "colab_type": "code",
        "colab": {
          "base_uri": "https://localhost:8080/",
          "height": 85
        },
        "outputId": "c7582ff6-4fa9-4105-8df6-083d75cee1cb"
      },
      "source": [
        "a=int(input(\"Enter first number : \"))\n",
        "b=int(input(\"Enter second number : \"))\n",
        "c=int(input(\"Enter third number : \"))\n",
        "l1=max(a,max(b,c))\n",
        "l2=min(a,min(b,c))\n",
        "l3=(l1+l2)/2\n",
        "l4=[]\n",
        "l4.append(l1)\n",
        "l4.append(l2)\n",
        "l4.append(l3)\n",
        "l4.sort()\n",
        "print(l4)\n",
        "\n"
      ],
      "execution_count": 34,
      "outputs": [
        {
          "output_type": "stream",
          "text": [
            "Enter first number : 10\n",
            "Enter second number : 2\n",
            "Enter third number : 5\n",
            "[2, 6.0, 10]\n"
          ],
          "name": "stdout"
        }
      ]
    },
    {
      "cell_type": "markdown",
      "metadata": {
        "id": "F7dEJKKQgRtI",
        "colab_type": "text"
      },
      "source": [
        "10Q) Write a program that reads a date from the user and computes its immediate successor. The date is the format YYYY-MM-DD. So, 2020-04-15 will have the successor 2020-04-16."
      ]
    },
    {
      "cell_type": "code",
      "metadata": {
        "id": "OQC8Q3eSgeud",
        "colab_type": "code",
        "colab": {
          "base_uri": "https://localhost:8080/",
          "height": 85
        },
        "outputId": "bd23fa08-5041-4f4c-b614-d064c5b66919"
      },
      "source": [
        "year=int(input(\"Enter a year : \"))\n",
        "if year%400== 0:\n",
        "    leap_year=True\n",
        "elif year%100==0:\n",
        "    leap_year=False\n",
        "elif year%4==0:\n",
        "    leap_year=True\n",
        "else:\n",
        "    leap_year=False\n",
        "month=int(input(\"Enter a month between 1 to 12 : \"))\n",
        "if month in (1, 3, 5, 7, 8, 10, 12):\n",
        "    month_length=31\n",
        "elif month==2:\n",
        "    if leap_year:\n",
        "        month_length=29\n",
        "    else:\n",
        "        month_length=28\n",
        "else:\n",
        "    month_length=30\n",
        "day=int(input(\"Enter a day between 1 to 31 : \"))\n",
        "if day<month_length:\n",
        "    day+=1\n",
        "else:\n",
        "    day=1\n",
        "    if month==12:\n",
        "        month=1\n",
        "        year+=1\n",
        "    else:\n",
        "        month+=1\n",
        "print(\"The immediate successor is YYYY-MM-DD : %d-%d-%d.\" %(year,month,day))\n"
      ],
      "execution_count": 76,
      "outputs": [
        {
          "output_type": "stream",
          "text": [
            "Enter a year : 2000\n",
            "Enter a month between 1 to 12 : 2\n",
            "Enter a day between 1 to 31 : 12\n",
            "The immediate successor is YYYY-MM-DD : 2000-2-13.\n"
          ],
          "name": "stdout"
        }
      ]
    },
    {
      "cell_type": "markdown",
      "metadata": {
        "id": "ncfxJpx0g82M",
        "colab_type": "text"
      },
      "source": [
        "11Q)\tCompute product of a list of numbers [45 ,3,2,89,72,1,10,7]\n",
        "Output: 121111200\n"
      ]
    },
    {
      "cell_type": "code",
      "metadata": {
        "id": "j33mHIkUhIg1",
        "colab_type": "code",
        "colab": {
          "base_uri": "https://localhost:8080/",
          "height": 34
        },
        "outputId": "4dac3a86-a0f3-4b1d-9c0b-736ee328706d"
      },
      "source": [
        "l=[45,3,2,89,72,1,10,7]\n",
        "p=1\n",
        "n=len(l)\n",
        "for i in range(0,n):\n",
        "  p=p*l[i]\n",
        "\n",
        "print(\"PRODUCT = \",p)"
      ],
      "execution_count": 1,
      "outputs": [
        {
          "output_type": "stream",
          "text": [
            "PRODUCT =  121111200\n"
          ],
          "name": "stdout"
        }
      ]
    },
    {
      "cell_type": "markdown",
      "metadata": {
        "id": "R2FaHD9QDCC3",
        "colab_type": "text"
      },
      "source": [
        "12Q) Compute given Num_list = [5, 6,8 ,34,89,1] to get desired outputOutput: Out_list=[11,14,42,123,90]\n",
        "\n"
      ]
    },
    {
      "cell_type": "code",
      "metadata": {
        "id": "s0qm0g2CDUP5",
        "colab_type": "code",
        "colab": {
          "base_uri": "https://localhost:8080/",
          "height": 34
        },
        "outputId": "62153761-9cd4-40f1-a7ef-69106b29ab84"
      },
      "source": [
        "Num_list=[5,6,8,34,89,1]\n",
        "Out_list=[]\n",
        "s=0\n",
        "n=len(Num_list)\n",
        "for i in range(0,n-1) :\n",
        "  s=Num_list[i]+Num_list[i+1]\n",
        "  Out_list.append(s)\n",
        "\n",
        "print(\"Out_list =\",Out_list)\n"
      ],
      "execution_count": 11,
      "outputs": [
        {
          "output_type": "stream",
          "text": [
            "Out_list = [11, 14, 42, 123, 90]\n"
          ],
          "name": "stdout"
        }
      ]
    },
    {
      "cell_type": "markdown",
      "metadata": {
        "id": "81Zc9SQ3GsrT",
        "colab_type": "text"
      },
      "source": [
        "13Q) Compute given Num_tuple = (5, 6,8 ,3,9,1) to get desired outputOutput: Out_list = [5, 30, 240, 720, 6480, 6480]"
      ]
    },
    {
      "cell_type": "code",
      "metadata": {
        "id": "M8tRtczdG3vE",
        "colab_type": "code",
        "colab": {
          "base_uri": "https://localhost:8080/",
          "height": 34
        },
        "outputId": "07746040-5102-46b9-ad8e-e4ebb64b9bdc"
      },
      "source": [
        "Num_tuple=(5,6,8,3,9,1)\n",
        "Out_list=[]\n",
        "s=Num_tuple[0]\n",
        "Out_list.append(s)\n",
        "n=len(Num_list)\n",
        "for i in range(1,n) :\n",
        "  s=s*Num_tuple[i]\n",
        "  Out_list.append(s)\n",
        "\n",
        "print(\"Out_list =\",Out_list)\n"
      ],
      "execution_count": 13,
      "outputs": [
        {
          "output_type": "stream",
          "text": [
            "Out_list = [5, 30, 240, 720, 6480, 6480]\n"
          ],
          "name": "stdout"
        }
      ]
    },
    {
      "cell_type": "markdown",
      "metadata": {
        "id": "lX9v1P5JIIFt",
        "colab_type": "text"
      },
      "source": [
        "14Q) Write a Python code that takes a number and returns a list of its digits. So for 586392 it should return [5,8,6,3,9,2]"
      ]
    },
    {
      "cell_type": "code",
      "metadata": {
        "id": "OFyBS8BQITaj",
        "colab_type": "code",
        "colab": {
          "base_uri": "https://localhost:8080/",
          "height": 34
        },
        "outputId": "6980f03e-7adb-4768-db7f-3f1acaf6f304"
      },
      "source": [
        "n=586392\n",
        "n1=str(n)\n",
        "l2=list(n1)\n",
        "n=len(l2)\n",
        "for i in range(0,n):\n",
        "    l2[i]=int(l2[i])\n",
        "print(l2)"
      ],
      "execution_count": 24,
      "outputs": [
        {
          "output_type": "stream",
          "text": [
            "[5, 8, 6, 3, 9, 2]\n"
          ],
          "name": "stdout"
        }
      ]
    },
    {
      "cell_type": "markdown",
      "metadata": {
        "id": "80Q4QywtmHRf",
        "colab_type": "text"
      },
      "source": [
        "15Q) Write a program that finds the longest palindromic substring of a given string\n"
      ]
    },
    {
      "cell_type": "code",
      "metadata": {
        "id": "0moLsO4DmSJ9",
        "colab_type": "code",
        "colab": {
          "base_uri": "https://localhost:8080/",
          "height": 51
        },
        "outputId": "c84298d6-b86b-4e17-ce0e-c916d9fef085"
      },
      "source": [
        "str=input(\"Enter a string : \")\n",
        "maxi=0\n",
        "m=\"\"\n",
        "if str[::1]==str[::-1]:\n",
        "    print(str)\n",
        "else:\n",
        "    for i in range(len(str)):\n",
        "        for j in range(i+1,len(str)):\n",
        "            if str[i:j+1:1]==str[j:i-1:-1]:\n",
        "                if maxi<len(str[i:j+1:1]):\n",
        "                    m=str[i:j+1:1]\n",
        "                    maxi=len(str[i:j+1:1])\n",
        "    if (maxi==0):\n",
        "        print(str[0])\n",
        "    else:\n",
        "        print(m)\n"
      ],
      "execution_count": 25,
      "outputs": [
        {
          "output_type": "stream",
          "text": [
            "Enter a string : hello\n",
            "ll\n"
          ],
          "name": "stdout"
        }
      ]
    },
    {
      "cell_type": "markdown",
      "metadata": {
        "id": "oZ_Lh_yImuFF",
        "colab_type": "text"
      },
      "source": [
        "16Q) Substring Check (Bug Funny)Given two binary strings, A (of length 10) and B (of length 5), output 1 if B is a substring of A and 0 otherwise.First two lines of input:1010110010 101101110111011 10011First two lines of output:10\n",
        "\n"
      ]
    },
    {
      "cell_type": "code",
      "metadata": {
        "id": "YFtkaB8nm7qk",
        "colab_type": "code",
        "colab": {
          "base_uri": "https://localhost:8080/",
          "height": 85
        },
        "outputId": "121190b4-a000-4baf-cfac-c5fc6b78c089"
      },
      "source": [
        "str1=(input('Enter any string : '))\n",
        "str2=(input('Enter any substring : '))\n",
        "n=str1.find(str2,0,len(str1))\n",
        "if n==-1:\n",
        "    print(\"sub string not found\")\n",
        "    print(0)\n",
        "else:\n",
        "    print(\"sub string  found\")\n",
        "    print(1)\n"
      ],
      "execution_count": 31,
      "outputs": [
        {
          "output_type": "stream",
          "text": [
            "Enter any string : 1010110010\n",
            "Enter any substring : 10110\n",
            "sub string  found\n",
            "1\n"
          ],
          "name": "stdout"
        }
      ]
    }
  ]
}